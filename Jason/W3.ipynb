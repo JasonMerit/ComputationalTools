{
 "cells": [
  {
   "cell_type": "markdown",
   "metadata": {},
   "source": [
    "# Week 3: MapReduce\n",
    "Chapter 2 of Mining of Massive Data Sets, Jure Leskovec, Anand Rajaraman, and Jeff\n",
    "Ullman."
   ]
  },
  {
   "cell_type": "markdown",
   "metadata": {},
   "source": [
    "## Exercise 1: Learn how to use map and reduce functions\n",
    "Take a look at the python tutorial for map and reduce functions here, and import the functools module so you can use the reduce function. https://www.learnpython.org/en/Map%2C_Filter%2C_Reduce"
   ]
  },
  {
   "cell_type": "markdown",
   "metadata": {},
   "source": [
    "### Map\n",
    "`map(func, *iterables)`\n",
    "\n",
    "Applies `func` to each element of the iterable(s) "
   ]
  },
  {
   "cell_type": "code",
   "execution_count": 1,
   "metadata": {},
   "outputs": [
    {
     "data": {
      "text/plain": [
       "['ALFRED', 'TABITHA', 'WILLIAM', 'ARLA']"
      ]
     },
     "execution_count": 1,
     "metadata": {},
     "output_type": "execute_result"
    }
   ],
   "source": [
    "my_pets = ['alfred', 'tabitha', 'william', 'arla']\n",
    "list(map(str.upper, my_pets))"
   ]
  },
  {
   "cell_type": "code",
   "execution_count": 2,
   "metadata": {},
   "outputs": [
    {
     "data": {
      "text/plain": [
       "[3.6, 5.58, 4.009, 56.2424, 9.01344, 32.00013]"
      ]
     },
     "execution_count": 2,
     "metadata": {},
     "output_type": "execute_result"
    }
   ],
   "source": [
    "circle_areas = [3.56773, 5.57668, 4.00914, 56.24241, 9.01344, 32.00013]\n",
    "list(map(round, circle_areas, range(1, 7)))  # Two iterable arguments"
   ]
  },
  {
   "cell_type": "code",
   "execution_count": 3,
   "metadata": {},
   "outputs": [
    {
     "data": {
      "text/plain": [
       "[('a', 1), ('b', 2), ('c', 3), ('d', 4), ('e', 5)]"
      ]
     },
     "execution_count": 3,
     "metadata": {},
     "output_type": "execute_result"
    }
   ],
   "source": [
    "# Zip function\n",
    "my_strings = ['a', 'b', 'c', 'd', 'e']\n",
    "my_numbers = [1, 2, 3, 4, 5]\n",
    "list(map(lambda x, y: (x, y), my_strings, my_numbers))"
   ]
  },
  {
   "cell_type": "markdown",
   "metadata": {},
   "source": [
    "### Filter\n",
    "`filter(func, iterable)`\n",
    "\n",
    "Filters out elements that don't satisfy a condition described by `func`"
   ]
  },
  {
   "cell_type": "code",
   "execution_count": 4,
   "metadata": {},
   "outputs": [
    {
     "data": {
      "text/plain": [
       "[90, 76, 88, 81]"
      ]
     },
     "execution_count": 4,
     "metadata": {},
     "output_type": "execute_result"
    }
   ],
   "source": [
    "scores = [66, 90, 68, 59, 76, 60, 88, 74, 81, 65]\n",
    "list(filter(lambda score: score > 75, scores))"
   ]
  },
  {
   "cell_type": "code",
   "execution_count": 5,
   "metadata": {},
   "outputs": [
    {
     "data": {
      "text/plain": [
       "['madam', 'anutforajaroftuna']"
      ]
     },
     "execution_count": 5,
     "metadata": {},
     "output_type": "execute_result"
    }
   ],
   "source": [
    "dromes = (\"demigod\", \"rewire\", \"madam\", \"freer\", \"anutforajaroftuna\", \"kiosk\")\n",
    "list(filter(lambda word: word == word[::-1], dromes))"
   ]
  },
  {
   "cell_type": "markdown",
   "metadata": {},
   "source": [
    "### Reduce\n",
    "\n",
    "`reduce(func, iterable[, initial])`\n",
    "\n",
    "Cummulatively applies `func` to the elements of the iterable. If `initial` is provided, it is used as the first argument to the first call of `func`."
   ]
  },
  {
   "cell_type": "code",
   "execution_count": 6,
   "metadata": {},
   "outputs": [],
   "source": [
    "from functools import reduce"
   ]
  },
  {
   "cell_type": "code",
   "execution_count": 7,
   "metadata": {},
   "outputs": [
    {
     "data": {
      "text/plain": [
       "(68, 78)"
      ]
     },
     "execution_count": 7,
     "metadata": {},
     "output_type": "execute_result"
    }
   ],
   "source": [
    "numbers = [3, 4, 6, 9, 34, 12]\n",
    "reduce(lambda a, b: a + b, numbers, 0), reduce(lambda a, b: a + b, numbers, 10)"
   ]
  },
  {
   "cell_type": "markdown",
   "metadata": {},
   "source": [
    "## Exercise 2: Word Frequency\n",
    "Implement the word frequency example discussed in class, i.e., the input is a document of\n",
    "words and the output is the frequency of each word. Test your solution on a small example."
   ]
  },
  {
   "cell_type": "code",
   "execution_count": 2,
   "metadata": {},
   "outputs": [
    {
     "name": "stdout",
     "output_type": "stream",
     "text": [
      "3.62 μs ± 1.19 μs per loop (mean ± std. dev. of 7 runs, 100,000 loops each)\n"
     ]
    },
    {
     "data": {
      "text/plain": [
       "['deer', 'bear', 'river', 'car', 'car', 'river', 'deer', 'car', 'bear']"
      ]
     },
     "execution_count": 2,
     "metadata": {},
     "output_type": "execute_result"
    }
   ],
   "source": [
    "doc = \"Deer Bear River Car Car River Deer Car Bear \"\n",
    "%timeit list(map(str.lower, doc.split()))\n",
    "list(map(str.lower, doc.split()))"
   ]
  },
  {
   "cell_type": "code",
   "execution_count": 9,
   "metadata": {},
   "outputs": [
    {
     "name": "stdout",
     "output_type": "stream",
     "text": [
      "1.8 µs ± 69.5 ns per loop (mean ± std. dev. of 7 runs, 1,000,000 loops each)\n"
     ]
    }
   ],
   "source": [
    "%timeit [word.lower() for word in doc.split()]"
   ]
  },
  {
   "cell_type": "code",
   "execution_count": 4,
   "metadata": {},
   "outputs": [
    {
     "name": "stdout",
     "output_type": "stream",
     "text": [
      "10.9 μs ± 5.77 μs per loop (mean ± std. dev. of 7 runs, 10,000 loops each)\n"
     ]
    }
   ],
   "source": [
    "from collections import Counter\n",
    "\n",
    "def word_freq(doc):\n",
    "    words = map(str.lower, doc.split())\n",
    "    return dict(Counter(words))\n",
    "%timeit word_freq(doc)"
   ]
  },
  {
   "cell_type": "markdown",
   "metadata": {},
   "source": [
    "## Exercise 3: Inverted index\n",
    "Implement the inverted index example discussed in class, i.e., the input is a collection of\n",
    "documents and the output is a set of <key, value> pairs where each key is a word appearing\n",
    "in at least one document and the value is the list of documents it appears in. Test your\n",
    "solution on a small example.\n"
   ]
  },
  {
   "cell_type": "code",
   "execution_count": 11,
   "metadata": {},
   "outputs": [
    {
     "data": {
      "text/plain": [
       "{'bought': [1, 4],\n",
       " 'road': [6],\n",
       " 'challenge': [0],\n",
       " 'from': [5],\n",
       " 'python': [0],\n",
       " 'driven': [6],\n",
       " 'a': [0, 1, 2, 3, 4, 5, 6],\n",
       " 'casino': [0, 2, 3],\n",
       " 'casinoville': [2],\n",
       " 'car': [1, 4, 6],\n",
       " 'learn': [0],\n",
       " 'far': [3, 5],\n",
       " 'is': [3, 5, 6],\n",
       " 'here': [5],\n",
       " 'on': [0, 6],\n",
       " 'the': [0, 1, 3, 6],\n",
       " 'he': [0, 1, 3, 4, 5, 6],\n",
       " 'they': [1]}"
      ]
     },
     "execution_count": 11,
     "metadata": {},
     "output_type": "execute_result"
    }
   ],
   "source": [
    "docs = [\"The Learn Python Challenge Casino\", \n",
    "        \"They bought a car\", \n",
    "        \"Casinoville\", \n",
    "        \"The Casino is far\",\n",
    "        \"He bought a car\",\n",
    "        \"He is far from here\",\n",
    "        \"The car is driven on the road\",]\n",
    "\n",
    "def inverted_index(docs):\n",
    "        words = map(str.lower, \" \".join(docs).split())\n",
    "        return {word: [i for i, doc in enumerate(docs) if word in doc.lower()] for word in set(words)}\n",
    "# %timeit inverted_index(docs)\n",
    "inverted_index(docs)"
   ]
  },
  {
   "cell_type": "markdown",
   "metadata": {},
   "source": [
    "## Exercise 4: Euler Tour\n",
    "Determine if a graph has an Euler tour. To do so count and output the number of vertices of\n",
    "even and odd degree. The input is a file representing a graph G, where each line consists of\n",
    "two numbers x and y representing an edge (x, y) in G. The output should be a count of the\n",
    "number of nodes with even degree and odd degree. Test your solution on the graphs given in\n",
    "the files eulerGraphx.txt, where x = 1, 2, 3"
   ]
  },
  {
   "cell_type": "code",
   "execution_count": 23,
   "metadata": {},
   "outputs": [
    {
     "data": {
      "text/plain": [
       "(2, 98)"
      ]
     },
     "execution_count": 23,
     "metadata": {},
     "output_type": "execute_result"
    }
   ],
   "source": [
    "def load_eulerGraph(x=1):\n",
    "    with open(f'data/eulerGraphs{x}.txt') as f:\n",
    "        eulerGraph = f.read().split('\\n')\n",
    "    def _helper(line):\n",
    "        _line = line.split()\n",
    "        return (int(_line[0]), int(_line[1]))\n",
    "    return list(map(_helper, eulerGraph))\n",
    "eulerGraph = load_eulerGraph(3)\n",
    "\n",
    "def eulerPath(eulerGraph):\n",
    "    # Extract and count nodes\n",
    "    nodes = [node for edge in eulerGraph for node in edge]  \n",
    "    nodes_count = Counter(nodes)\n",
    "    evens = len(list(filter(lambda v: v % 2 == 0, nodes_count.values())))\n",
    "    return evens, len(nodes_count) - evens\n",
    "    \n",
    "eulerPath(eulerGraph)\n"
   ]
  },
  {
   "cell_type": "markdown",
   "metadata": {},
   "source": [
    "## Exercise 5: Common Friends\n",
    "Implement the common friends example discussed in class. The input is a file representing a\n",
    "graph in an adjacency list style-format. Each line in the file is of the form x : y1, y2, . . . , yk\n",
    "and encodes that vertex x is adjacent to vertices y1, y2, . . . , yk. The output should be pairs\n",
    "of ADJACENT vertices and their common neighbors, i.e., x, y : c1, c2, . . . , cj if x and y have\n",
    "common neighbors c1, . . . , cj. Test your solution on the graph in the file friends.txt."
   ]
  },
  {
   "cell_type": "code",
   "execution_count": 42,
   "metadata": {},
   "outputs": [
    {
     "data": {
      "text/plain": [
       "{'1': {'2', '3', '6', '7', '8'},\n",
       " '2': {'1', '3', '4', '7'},\n",
       " '3': {'1', '2', '5', '8'},\n",
       " '4': {'2', '5', '7', '8'},\n",
       " '5': {'3', '4', '6'},\n",
       " '6': {'1', '5', '8'},\n",
       " '7': {'1', '2', '4', '8'},\n",
       " '8': {'1', '3', '4', '6', '7'}}"
      ]
     },
     "execution_count": 42,
     "metadata": {},
     "output_type": "execute_result"
    }
   ],
   "source": [
    "with open(f'data/friends.txt') as f:\n",
    "    friends = f.read().split('\\n')\n",
    "    \n",
    "    friends = list(map(lambda x: x.split(': '), friends))\n",
    "    friends = {k[0] : set(v.split(',')) for k, v in friends}\n",
    "friends\n"
   ]
  },
  {
   "cell_type": "markdown",
   "metadata": {},
   "source": [
    "Going through the process described by the slides"
   ]
  },
  {
   "cell_type": "code",
   "execution_count": 45,
   "metadata": {},
   "outputs": [],
   "source": [
    "friends = {'A' : {'B', 'C', 'D'},\n",
    "           'B' : {'A', 'C', 'D', 'E'},\n",
    "           'C' : {'A', 'B', 'D', 'E'},\n",
    "           'D' : {'A', 'B', 'C', 'E'},\n",
    "           'E' : {'B', 'C', 'D'}}"
   ]
  },
  {
   "cell_type": "code",
   "execution_count": 95,
   "metadata": {},
   "outputs": [
    {
     "data": {
      "text/plain": [
       "[[[('A', 'B'), {'C', 'D'}],\n",
       "  [('A', 'D'), {'B', 'C'}],\n",
       "  [('A', 'C'), {'B', 'D'}]],\n",
       " [[('B', 'D'), {'A', 'C', 'E'}],\n",
       "  [('B', 'C'), {'A', 'D', 'E'}],\n",
       "  [('B', 'A'), {'C', 'D'}],\n",
       "  [('B', 'E'), {'C', 'D'}]],\n",
       " [[('C', 'B'), {'A', 'D', 'E'}],\n",
       "  [('C', 'D'), {'A', 'B', 'E'}],\n",
       "  [('C', 'E'), {'B', 'D'}],\n",
       "  [('C', 'A'), {'B', 'D'}]],\n",
       " [[('D', 'B'), {'A', 'C', 'E'}],\n",
       "  [('D', 'C'), {'A', 'B', 'E'}],\n",
       "  [('D', 'A'), {'B', 'C'}],\n",
       "  [('D', 'E'), {'B', 'C'}]],\n",
       " [[('E', 'B'), {'C', 'D'}],\n",
       "  [('E', 'D'), {'B', 'C'}],\n",
       "  [('E', 'C'), {'B', 'D'}]]]"
      ]
     },
     "execution_count": 95,
     "metadata": {},
     "output_type": "execute_result"
    }
   ],
   "source": [
    "arr = []\n",
    "for k, v in friends.items():\n",
    "    res = []\n",
    "    for friend in v:\n",
    "        res.append([(k, friend), v.intersection(friends[friend])]) \n",
    "    arr.append(res)\n",
    "arr"
   ]
  },
  {
   "cell_type": "code",
   "execution_count": 98,
   "metadata": {},
   "outputs": [
    {
     "data": {
      "text/plain": [
       "[[[('A', 'B'), {'C', 'D'}],\n",
       "  [('A', 'D'), {'B', 'C'}],\n",
       "  [('A', 'C'), {'B', 'D'}]],\n",
       " [[('B', 'D'), {'A', 'C', 'E'}],\n",
       "  [('B', 'C'), {'A', 'D', 'E'}],\n",
       "  [('B', 'A'), {'C', 'D'}],\n",
       "  [('B', 'E'), {'C', 'D'}]],\n",
       " [[('C', 'B'), {'A', 'D', 'E'}],\n",
       "  [('C', 'D'), {'A', 'B', 'E'}],\n",
       "  [('C', 'E'), {'B', 'D'}],\n",
       "  [('C', 'A'), {'B', 'D'}]],\n",
       " [[('D', 'B'), {'A', 'C', 'E'}],\n",
       "  [('D', 'C'), {'A', 'B', 'E'}],\n",
       "  [('D', 'A'), {'B', 'C'}],\n",
       "  [('D', 'E'), {'B', 'C'}]],\n",
       " [[('E', 'B'), {'C', 'D'}],\n",
       "  [('E', 'D'), {'B', 'C'}],\n",
       "  [('E', 'C'), {'B', 'D'}]]]"
      ]
     },
     "execution_count": 98,
     "metadata": {},
     "output_type": "execute_result"
    }
   ],
   "source": [
    "arr = [[[(k, friend), v.intersection(friends[friend])] for friend in v] for k, v in friends.items()]\n",
    "arr"
   ]
  },
  {
   "cell_type": "code",
   "execution_count": 75,
   "metadata": {},
   "outputs": [
    {
     "name": "stdout",
     "output_type": "stream",
     "text": [
      "1 [1, 1, 1, 1]\n",
      "2 [2, 2]\n",
      "3 [3, 3, 3, 3]\n"
     ]
    },
    {
     "data": {
      "text/plain": [
       "{1: 4, 2: 2, 3: 4}"
      ]
     },
     "execution_count": 75,
     "metadata": {},
     "output_type": "execute_result"
    }
   ],
   "source": [
    "from itertools import groupby\n",
    "data = [1, 1, 1, 2, 2, 3, 1, 3, 3, 3]\n",
    "\n",
    "for k, g in groupby(sorted(data)):\n",
    "    print(k, list(g))\n",
    "{k: len(list(g)) for k, g in groupby(sorted(data))}\n"
   ]
  },
  {
   "cell_type": "code",
   "execution_count": 100,
   "metadata": {},
   "outputs": [
    {
     "name": "stdout",
     "output_type": "stream",
     "text": [
      "[[('A', 'B'), {'D', 'C'}], [('A', 'D'), {'B', 'C'}], [('A', 'C'), {'B', 'D'}]] [[[('A', 'B'), {'D', 'C'}], [('A', 'D'), {'B', 'C'}], [('A', 'C'), {'B', 'D'}]]]\n",
      "[[('B', 'D'), {'C', 'A', 'E'}], [('B', 'C'), {'D', 'E', 'A'}], [('B', 'A'), {'D', 'C'}], [('B', 'E'), {'D', 'C'}]] [[[('B', 'D'), {'C', 'A', 'E'}], [('B', 'C'), {'D', 'E', 'A'}], [('B', 'A'), {'D', 'C'}], [('B', 'E'), {'D', 'C'}]]]\n",
      "[[('C', 'B'), {'D', 'E', 'A'}], [('C', 'D'), {'B', 'E', 'A'}], [('C', 'E'), {'B', 'D'}], [('C', 'A'), {'B', 'D'}]] [[[('C', 'B'), {'D', 'E', 'A'}], [('C', 'D'), {'B', 'E', 'A'}], [('C', 'E'), {'B', 'D'}], [('C', 'A'), {'B', 'D'}]]]\n",
      "[[('D', 'B'), {'C', 'A', 'E'}], [('D', 'C'), {'B', 'E', 'A'}], [('D', 'A'), {'B', 'C'}], [('D', 'E'), {'B', 'C'}]] [[[('D', 'B'), {'C', 'A', 'E'}], [('D', 'C'), {'B', 'E', 'A'}], [('D', 'A'), {'B', 'C'}], [('D', 'E'), {'B', 'C'}]]]\n",
      "[[('E', 'B'), {'D', 'C'}], [('E', 'D'), {'B', 'C'}], [('E', 'C'), {'B', 'D'}]] [[[('E', 'B'), {'D', 'C'}], [('E', 'D'), {'B', 'C'}], [('E', 'C'), {'B', 'D'}]]]\n"
     ]
    }
   ],
   "source": [
    "for k, g in groupby(sorted(arr)):\n",
    "    print(k, list(g))"
   ]
  },
  {
   "cell_type": "code",
   "execution_count": 88,
   "metadata": {},
   "outputs": [
    {
     "name": "stdout",
     "output_type": "stream",
     "text": [
      "A [(('A', 'B'), {'D', 'C'}), (('A', 'C'), {'B', 'D'}), (('A', 'D'), {'B', 'C'})]\n"
     ]
    }
   ],
   "source": [
    "# Given the list of dictionaries, group by their keys\n",
    "\n",
    "groupby(sorted)"
   ]
  }
 ],
 "metadata": {
  "kernelspec": {
   "display_name": "Python 3",
   "language": "python",
   "name": "python3"
  },
  "language_info": {
   "codemirror_mode": {
    "name": "ipython",
    "version": 3
   },
   "file_extension": ".py",
   "mimetype": "text/x-python",
   "name": "python",
   "nbconvert_exporter": "python",
   "pygments_lexer": "ipython3",
   "version": "3.12.7"
  }
 },
 "nbformat": 4,
 "nbformat_minor": 2
}
