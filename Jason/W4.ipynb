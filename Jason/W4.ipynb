{
 "cells": [
  {
   "cell_type": "markdown",
   "metadata": {},
   "source": [
    "## Exercise 2: q-shingles"
   ]
  },
  {
   "cell_type": "code",
   "execution_count": 1,
   "metadata": {},
   "outputs": [
    {
     "data": {
      "text/plain": [
       "['you want', 'want to', 'i want', 'to go', 'go home', 'do you', 'home do']"
      ]
     },
     "execution_count": 1,
     "metadata": {},
     "output_type": "execute_result"
    }
   ],
   "source": [
    "def shingle(s, q):\n",
    "    s = s.split()\n",
    "    # return set([' '.join(s[i:i + q]) for i in range(len(s) - q + 1)])\n",
    "    shingles = set()\n",
    "    for i in range(len(s) - q + 1):\n",
    "        shingles.add(' '.join(s[i:i + q]))\n",
    "    return list(shingles)\n",
    "\n",
    "\n",
    "s = 'i want to go home do you want to'\n",
    "q = 2\n",
    "shingles = shingle(s, q)\n",
    "shingles"
   ]
  },
  {
   "cell_type": "markdown",
   "metadata": {},
   "source": [
    "## Exercise 3: Minhashing"
   ]
  },
  {
   "cell_type": "code",
   "execution_count": 2,
   "metadata": {},
   "outputs": [
    {
     "name": "stdout",
     "output_type": "stream",
     "text": [
      "read document calltounconv00baxt.txt\n",
      "read document gospeltruth00whit.txt\n",
      "read document lifeofrevrichard00baxt.txt\n",
      "read document memoirjamesbrai00ricegoog.txt\n",
      "read document practicalthought00nev.txt\n",
      "read document remember00palm.txt\n",
      "read document remembermeorholy00palm.txt\n",
      "read document thoughtsonpopery00nevi.txt\n"
     ]
    },
    {
     "data": {
      "text/plain": [
       "-1251990042"
      ]
     },
     "execution_count": 2,
     "metadata": {},
     "output_type": "execute_result"
    }
   ],
   "source": [
    "from data.similarity import listhash\n",
    "\n",
    "def minhash(shingles, seed):\n",
    "    return min([listhash(s, seed) for s in shingles])\n",
    "\n",
    "minhash(shingles, 10)"
   ]
  },
  {
   "cell_type": "code",
   "execution_count": 3,
   "metadata": {},
   "outputs": [
    {
     "data": {
      "text/plain": [
       "[-1251990042, -1169451450, -914764806, -1886724458, -2002196872]"
      ]
     },
     "execution_count": 3,
     "metadata": {},
     "output_type": "execute_result"
    }
   ],
   "source": [
    "def minhashes(shingles, seed, k):\n",
    "    return [minhash(shingles, seed) for seed in range(seed, seed + k)]\n",
    "\n",
    "minhashes(shingles, 10, 5)"
   ]
  },
  {
   "cell_type": "markdown",
   "metadata": {},
   "source": [
    "## Exercise 4: Signatures"
   ]
  },
  {
   "cell_type": "code",
   "execution_count": 19,
   "metadata": {},
   "outputs": [],
   "source": [
    "from data.similarity import q, k, docs  #q shingle length, k num minshashes\n",
    "shingles = {doc: shingle(docs[doc], q) for doc in docs}\n",
    "U = set([s for doc in shingles for s in shingles[doc]])\n",
    "signatures = {doc : [float('inf') for _ in range(k)] for doc in docs}"
   ]
  },
  {
   "cell_type": "code",
   "execution_count": 18,
   "metadata": {},
   "outputs": [
    {
     "ename": "KeyboardInterrupt",
     "evalue": "",
     "output_type": "error",
     "traceback": [
      "\u001b[1;31m---------------------------------------------------------------------------\u001b[0m",
      "\u001b[1;31mKeyboardInterrupt\u001b[0m                         Traceback (most recent call last)",
      "Cell \u001b[1;32mIn[18], line 12\u001b[0m\n\u001b[0;32m     10\u001b[0m                 \u001b[38;5;28;01mfor\u001b[39;00m i \u001b[38;5;129;01min\u001b[39;00m \u001b[38;5;28mrange\u001b[39m(k):\n\u001b[0;32m     11\u001b[0m                     signatures[doc][i] \u001b[38;5;241m=\u001b[39m \u001b[38;5;28mmin\u001b[39m(hashes[i], signatures[doc][i])\n\u001b[1;32m---> 12\u001b[0m \u001b[43mMakeSignatures\u001b[49m\u001b[43m(\u001b[49m\u001b[43m)\u001b[49m\n",
      "Cell \u001b[1;32mIn[18], line 7\u001b[0m, in \u001b[0;36mMakeSignatures\u001b[1;34m()\u001b[0m\n\u001b[0;32m      5\u001b[0m \u001b[38;5;28;01mdef\u001b[39;00m \u001b[38;5;21mMakeSignatures\u001b[39m():\n\u001b[0;32m      6\u001b[0m     \u001b[38;5;28;01mfor\u001b[39;00m s \u001b[38;5;129;01min\u001b[39;00m U:\n\u001b[1;32m----> 7\u001b[0m         hashes \u001b[38;5;241m=\u001b[39m \u001b[43mminhashes\u001b[49m\u001b[43m(\u001b[49m\u001b[43ms\u001b[49m\u001b[43m,\u001b[49m\u001b[43m \u001b[49m\u001b[38;5;241;43m0\u001b[39;49m\u001b[43m,\u001b[49m\u001b[43m \u001b[49m\u001b[43mk\u001b[49m\u001b[43m)\u001b[49m\n\u001b[0;32m      8\u001b[0m         \u001b[38;5;28;01mfor\u001b[39;00m doc \u001b[38;5;129;01min\u001b[39;00m docs:\n\u001b[0;32m      9\u001b[0m             \u001b[38;5;28;01mif\u001b[39;00m s \u001b[38;5;129;01min\u001b[39;00m shingles[doc]:\n",
      "Cell \u001b[1;32mIn[3], line 2\u001b[0m, in \u001b[0;36mminhashes\u001b[1;34m(shingles, seed, k)\u001b[0m\n\u001b[0;32m      1\u001b[0m \u001b[38;5;28;01mdef\u001b[39;00m \u001b[38;5;21mminhashes\u001b[39m(shingles, seed, k):\n\u001b[1;32m----> 2\u001b[0m     \u001b[38;5;28;01mreturn\u001b[39;00m [minhash(shingles, seed) \u001b[38;5;28;01mfor\u001b[39;00m seed \u001b[38;5;129;01min\u001b[39;00m \u001b[38;5;28mrange\u001b[39m(seed, seed \u001b[38;5;241m+\u001b[39m k)]\n",
      "Cell \u001b[1;32mIn[3], line 2\u001b[0m, in \u001b[0;36m<listcomp>\u001b[1;34m(.0)\u001b[0m\n\u001b[0;32m      1\u001b[0m \u001b[38;5;28;01mdef\u001b[39;00m \u001b[38;5;21mminhashes\u001b[39m(shingles, seed, k):\n\u001b[1;32m----> 2\u001b[0m     \u001b[38;5;28;01mreturn\u001b[39;00m [\u001b[43mminhash\u001b[49m\u001b[43m(\u001b[49m\u001b[43mshingles\u001b[49m\u001b[43m,\u001b[49m\u001b[43m \u001b[49m\u001b[43mseed\u001b[49m\u001b[43m)\u001b[49m \u001b[38;5;28;01mfor\u001b[39;00m seed \u001b[38;5;129;01min\u001b[39;00m \u001b[38;5;28mrange\u001b[39m(seed, seed \u001b[38;5;241m+\u001b[39m k)]\n",
      "Cell \u001b[1;32mIn[2], line 4\u001b[0m, in \u001b[0;36mminhash\u001b[1;34m(shingles, seed)\u001b[0m\n\u001b[0;32m      3\u001b[0m \u001b[38;5;28;01mdef\u001b[39;00m \u001b[38;5;21mminhash\u001b[39m(shingles, seed):\n\u001b[1;32m----> 4\u001b[0m     \u001b[38;5;28;01mreturn\u001b[39;00m \u001b[38;5;28mmin\u001b[39m([listhash(s, seed) \u001b[38;5;28;01mfor\u001b[39;00m s \u001b[38;5;129;01min\u001b[39;00m shingles])\n",
      "Cell \u001b[1;32mIn[2], line 4\u001b[0m, in \u001b[0;36m<listcomp>\u001b[1;34m(.0)\u001b[0m\n\u001b[0;32m      3\u001b[0m \u001b[38;5;28;01mdef\u001b[39;00m \u001b[38;5;21mminhash\u001b[39m(shingles, seed):\n\u001b[1;32m----> 4\u001b[0m     \u001b[38;5;28;01mreturn\u001b[39;00m \u001b[38;5;28mmin\u001b[39m([\u001b[43mlisthash\u001b[49m\u001b[43m(\u001b[49m\u001b[43ms\u001b[49m\u001b[43m,\u001b[49m\u001b[43m \u001b[49m\u001b[43mseed\u001b[49m\u001b[43m)\u001b[49m \u001b[38;5;28;01mfor\u001b[39;00m s \u001b[38;5;129;01min\u001b[39;00m shingles])\n",
      "File \u001b[1;32mc:\\Users\\PC\\OneDrive - Danmarks Tekniske Universitet\\Masters\\1_Semester\\ComputationalTools\\ComputationalTools\\Jason\\data\\similarity.py:11\u001b[0m, in \u001b[0;36mlisthash\u001b[1;34m(l, seed)\u001b[0m\n\u001b[0;32m      9\u001b[0m val \u001b[38;5;241m=\u001b[39m \u001b[38;5;241m0\u001b[39m\n\u001b[0;32m     10\u001b[0m \u001b[38;5;28;01mfor\u001b[39;00m e \u001b[38;5;129;01min\u001b[39;00m l:\n\u001b[1;32m---> 11\u001b[0m \tval \u001b[38;5;241m=\u001b[39m val \u001b[38;5;241m^\u001b[39m mmh3\u001b[38;5;241m.\u001b[39mhash(e, seed)\n\u001b[0;32m     12\u001b[0m \u001b[38;5;28;01mreturn\u001b[39;00m val\n",
      "\u001b[1;31mKeyboardInterrupt\u001b[0m: "
     ]
    }
   ],
   "source": [
    "def MakeSignatures():\n",
    "    for s in U:\n",
    "        hashes = minhashes(s, 0, k)\n",
    "        for doc in docs:\n",
    "            if s in shingles[doc]:\n",
    "                for i in range(k):\n",
    "                    signatures[doc][i] = min(hashes[i], signatures[doc][i])\n",
    "MakeSignatures()\n"
   ]
  },
  {
   "cell_type": "code",
   "execution_count": 10,
   "metadata": {},
   "outputs": [
    {
     "data": {
      "text/plain": [
       "dict_keys(['calltounconv00baxt.txt', 'gospeltruth00whit.txt', 'lifeofrevrichard00baxt.txt', 'memoirjamesbrai00ricegoog.txt', 'practicalthought00nev.txt', 'remember00palm.txt', 'remembermeorholy00palm.txt'])"
      ]
     },
     "execution_count": 10,
     "metadata": {},
     "output_type": "execute_result"
    }
   ],
   "source": [
    "shingles.keys()"
   ]
  }
 ],
 "metadata": {
  "kernelspec": {
   "display_name": "Python 3",
   "language": "python",
   "name": "python3"
  },
  "language_info": {
   "codemirror_mode": {
    "name": "ipython",
    "version": 3
   },
   "file_extension": ".py",
   "mimetype": "text/x-python",
   "name": "python",
   "nbconvert_exporter": "python",
   "pygments_lexer": "ipython3",
   "version": "3.12.7"
  }
 },
 "nbformat": 4,
 "nbformat_minor": 2
}
