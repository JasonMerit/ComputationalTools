{
 "cells": [
  {
   "cell_type": "markdown",
   "metadata": {},
   "source": [
    "Let $I$ be set of items, then the probability of observing all $I$ items in a basket is\n",
    "$$\n",
    "Support(I) = \\frac{\\# \\ baskets \\ containing \\ I}{total\\ number \\ of \\ baskets}\n",
    "$$\n",
    "\n",
    "An item set $I$ is **I frequent**, if $Suppoert(I)\\geq s$, for som $s\\in \\R$"
   ]
  },
  {
   "cell_type": "code",
   "execution_count": 7,
   "metadata": {},
   "outputs": [
    {
     "name": "stdout",
     "output_type": "stream",
     "text": [
      "1 2\n",
      "1\n"
     ]
    }
   ],
   "source": [
    "import numpy as np\n",
    "# Create a 3x3 matrix with incerasing values from 1\n",
    "A = np.array([[1,2,3],[4,5,6],[7,8,9]])\n",
    "n = 3\n",
    "for i in range(1, n-1):\n",
    "    for j in range(i+1, n):\n",
    "        print(i, j)\n",
    "        k = (i-1)*(n-i//2)+j-i\n",
    "        print(k)"
   ]
  }
 ],
 "metadata": {
  "kernelspec": {
   "display_name": "Python 3",
   "language": "python",
   "name": "python3"
  },
  "language_info": {
   "codemirror_mode": {
    "name": "ipython",
    "version": 3
   },
   "file_extension": ".py",
   "mimetype": "text/x-python",
   "name": "python",
   "nbconvert_exporter": "python",
   "pygments_lexer": "ipython3",
   "version": "3.12.7"
  }
 },
 "nbformat": 4,
 "nbformat_minor": 2
}
