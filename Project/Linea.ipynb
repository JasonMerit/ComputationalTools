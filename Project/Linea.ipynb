{
 "cells": [
  {
   "cell_type": "markdown",
   "metadata": {},
   "source": [
    "# Speed running entire project"
   ]
  },
  {
   "cell_type": "code",
   "execution_count": 41,
   "metadata": {},
   "outputs": [
    {
     "name": "stderr",
     "output_type": "stream",
     "text": [
      "[nltk_data] Downloading package punkt to\n",
      "[nltk_data]     C:\\Users\\Jason\\AppData\\Roaming\\nltk_data...\n",
      "[nltk_data]   Package punkt is already up-to-date!\n",
      "[nltk_data] Downloading package wordnet to\n",
      "[nltk_data]     C:\\Users\\Jason\\AppData\\Roaming\\nltk_data...\n",
      "[nltk_data]   Package wordnet is already up-to-date!\n",
      "[nltk_data] Downloading package punkt_tab to\n",
      "[nltk_data]     C:\\Users\\Jason\\AppData\\Roaming\\nltk_data...\n",
      "[nltk_data]   Package punkt_tab is already up-to-date!\n",
      "[nltk_data] Downloading package stopwords to\n",
      "[nltk_data]     C:\\Users\\Jason\\AppData\\Roaming\\nltk_data...\n",
      "[nltk_data]   Unzipping corpora\\stopwords.zip.\n"
     ]
    }
   ],
   "source": [
    "import pandas as pd\n",
    "import numpy as np\n",
    "import mmh3\n",
    "\n",
    "import matplotlib.pyplot as plt\n",
    "import seaborn as sns\n",
    "\n",
    "from sklearn.feature_extraction.text import TfidfVectorizer\n",
    "from sklearn.cluster import KMeans\n",
    "from sklearn.preprocessing import StandardScaler\n",
    "\n",
    "import networkx as nx\n",
    "import math as math\n",
    "from sklearn.metrics.pairwise import cosine_similarity\n",
    "from collections import Counter\n",
    "\n",
    "import nltk\n",
    "nltk.download('punkt')\n",
    "nltk.download('wordnet')\n",
    "nltk.download('punkt_tab')\n",
    "nltk.download('stopwords')\n",
    "from nltk.tokenize import word_tokenize\n",
    "from nltk.corpus import stopwords\n",
    "from nltk.stem import WordNetLemmatizer\n",
    "import string\n",
    "\n",
    "from tqdm import tqdm"
   ]
  },
  {
   "cell_type": "code",
   "execution_count": 2,
   "metadata": {},
   "outputs": [
    {
     "name": "stdout",
     "output_type": "stream",
     "text": [
      "Movies data has 2 columns with 786 rows each.\n",
      "Reviews data has 7 columns with 7855 rows each.\n"
     ]
    },
    {
     "data": {
      "text/html": [
       "<div>\n",
       "<style scoped>\n",
       "    .dataframe tbody tr th:only-of-type {\n",
       "        vertical-align: middle;\n",
       "    }\n",
       "\n",
       "    .dataframe tbody tr th {\n",
       "        vertical-align: top;\n",
       "    }\n",
       "\n",
       "    .dataframe thead th {\n",
       "        text-align: right;\n",
       "    }\n",
       "</style>\n",
       "<table border=\"1\" class=\"dataframe\">\n",
       "  <thead>\n",
       "    <tr style=\"text-align: right;\">\n",
       "      <th></th>\n",
       "      <th>Movie ID</th>\n",
       "      <th>Reviewer Name</th>\n",
       "      <th>Reviewer URL</th>\n",
       "      <th>Title</th>\n",
       "      <th>Review</th>\n",
       "      <th>Helpful</th>\n",
       "      <th>Total</th>\n",
       "    </tr>\n",
       "  </thead>\n",
       "  <tbody>\n",
       "    <tr>\n",
       "      <th>0</th>\n",
       "      <td>tt0111161</td>\n",
       "      <td>hitchcockthelegend</td>\n",
       "      <td>ur16161013</td>\n",
       "      <td>Some birds aren't meant to be caged.</td>\n",
       "      <td>The Shawshank Redemption is written and direct...</td>\n",
       "      <td>1111</td>\n",
       "      <td>1203</td>\n",
       "    </tr>\n",
       "    <tr>\n",
       "      <th>1</th>\n",
       "      <td>tt0111161</td>\n",
       "      <td>Sleepin_Dragon</td>\n",
       "      <td>ur15311310</td>\n",
       "      <td>An incredible movie. One that lives with you.</td>\n",
       "      <td>It is no wonder that the film has such a high ...</td>\n",
       "      <td>362</td>\n",
       "      <td>394</td>\n",
       "    </tr>\n",
       "  </tbody>\n",
       "</table>\n",
       "</div>"
      ],
      "text/plain": [
       "    Movie ID       Reviewer Name Reviewer URL  \\\n",
       "0  tt0111161  hitchcockthelegend   ur16161013   \n",
       "1  tt0111161      Sleepin_Dragon   ur15311310   \n",
       "\n",
       "                                           Title  \\\n",
       "0           Some birds aren't meant to be caged.   \n",
       "1  An incredible movie. One that lives with you.   \n",
       "\n",
       "                                              Review  Helpful  Total  \n",
       "0  The Shawshank Redemption is written and direct...     1111   1203  \n",
       "1  It is no wonder that the film has such a high ...      362    394  "
      ]
     },
     "execution_count": 2,
     "metadata": {},
     "output_type": "execute_result"
    }
   ],
   "source": [
    "# Get reviews\n",
    "Movies = pd.read_csv('data/movies_786.csv')\n",
    "Reviews = pd.read_csv('data/reviews_786.csv')\n",
    "print(f\"Movies data has {Movies.columns.size} columns with {Movies.shape[0]} rows each.\")\n",
    "print(f\"Reviews data has {Reviews.columns.size} columns with {Reviews.shape[0]} rows each.\")\n",
    "Reviews.head(n=2)"
   ]
  },
  {
   "cell_type": "code",
   "execution_count": 3,
   "metadata": {},
   "outputs": [
    {
     "data": {
      "text/plain": [
       "['tt0111161',\n",
       " 'tt0068646',\n",
       " 'tt0110912',\n",
       " 'tt0071562',\n",
       " 'tt1375666',\n",
       " 'tt0167260',\n",
       " 'tt0076759',\n",
       " 'tt0120737',\n",
       " 'tt0133093',\n",
       " 'tt0114369',\n",
       " 'tt0211915',\n",
       " 'tt0103064',\n",
       " 'tt1520211',\n",
       " 'tt1156398',\n",
       " 'tt0365748',\n",
       " 'tt0480249',\n",
       " 'tt0455407',\n",
       " 'tt0462322',\n",
       " 'tt0289043',\n",
       " 'tt0463854',\n",
       " 'tt0432021',\n",
       " 'tt0363547',\n",
       " 'tt0120804',\n",
       " 'tt1077258']"
      ]
     },
     "execution_count": 3,
     "metadata": {},
     "output_type": "execute_result"
    }
   ],
   "source": [
    "# extract first 10 ids\n",
    "Movies['ID'].head(24).to_list()"
   ]
  },
  {
   "cell_type": "markdown",
   "metadata": {},
   "source": [
    "# Book based model <a id=\"model1\"></a> <br>\n",
    "\n",
    "## Jaccard Similarity on Movie Data <a id=\"jaccard-sim\"></a> <br>\n",
    "\n",
    "\n",
    "Function jaccard, that takes two titles and outputs the estimated jaccard similarity. \\\n",
    "Function max_jaccard takes a list of titles and compare the titles with each other. It then returns the two titles with the highest jaccard similarity."
   ]
  },
  {
   "cell_type": "code",
   "execution_count": 4,
   "metadata": {},
   "outputs": [
    {
     "data": {
      "text/html": [
       "<div>\n",
       "<style scoped>\n",
       "    .dataframe tbody tr th:only-of-type {\n",
       "        vertical-align: middle;\n",
       "    }\n",
       "\n",
       "    .dataframe tbody tr th {\n",
       "        vertical-align: top;\n",
       "    }\n",
       "\n",
       "    .dataframe thead th {\n",
       "        text-align: right;\n",
       "    }\n",
       "</style>\n",
       "<table border=\"1\" class=\"dataframe\">\n",
       "  <thead>\n",
       "    <tr style=\"text-align: right;\">\n",
       "      <th></th>\n",
       "      <th>ID</th>\n",
       "      <th>Title</th>\n",
       "    </tr>\n",
       "  </thead>\n",
       "  <tbody>\n",
       "    <tr>\n",
       "      <th>0</th>\n",
       "      <td>tt0111161</td>\n",
       "      <td>The Shawshank Redemption</td>\n",
       "    </tr>\n",
       "    <tr>\n",
       "      <th>1</th>\n",
       "      <td>tt0068646</td>\n",
       "      <td>The Godfather</td>\n",
       "    </tr>\n",
       "  </tbody>\n",
       "</table>\n",
       "</div>"
      ],
      "text/plain": [
       "          ID                     Title\n",
       "0  tt0111161  The Shawshank Redemption\n",
       "1  tt0068646             The Godfather"
      ]
     },
     "execution_count": 4,
     "metadata": {},
     "output_type": "execute_result"
    }
   ],
   "source": [
    "Movies.head(n=2)\n",
    "# Extract all titles"
   ]
  },
  {
   "cell_type": "code",
   "execution_count": 5,
   "metadata": {},
   "outputs": [
    {
     "name": "stdout",
     "output_type": "stream",
     "text": [
      "Max Jaccard Similarity: 1.0\n",
      "Dawn of the Dead\n",
      "Dawn of the Dead\n",
      "shocking :o\n"
     ]
    }
   ],
   "source": [
    "# Finds jaccard similarity between two titles.\n",
    "def jaccard(title1, title2):\n",
    "    words1 = set(str(title1).lower().split())\n",
    "    words2 = set(str(title2).lower().split())\n",
    "    \n",
    "    # Compute the intersection and union of the sets\n",
    "    intersection = len(words1.intersection(words2))\n",
    "    union = len(words1) + len(words2) - intersection\n",
    "    \n",
    "    # Calculate and return the Jaccard similarity\n",
    "    return intersection / union if union > 0 else 0.0\n",
    "\n",
    "# Finds title set with highest jaccard similarity\n",
    "def max_jaccard(title_list):\n",
    "    max_similarity = 0.0\n",
    "    idx1 = 0\n",
    "    idx2 = 0\n",
    "    for i in range(len(title_list)):\n",
    "        for j in range(i + 1, len(title_list)):\n",
    "            similarity = jaccard(title_list[i], title_list[j])\n",
    "            if similarity > max_similarity:\n",
    "                idx1 = i\n",
    "                idx2 = j\n",
    "                max_similarity = similarity\n",
    "    return max_similarity, idx1, idx2\n",
    "\n",
    "\"\"\"\n",
    "Example usage for comparing two titles\n",
    "title1 = books_data_1['title'][0]\n",
    "title2 = books_data_1['title'][1]\n",
    "print(title1,title2)\n",
    "similarity = jaccard(title1, title2)\n",
    "print(f\"Jaccard Similarity: {similarity}\")\n",
    "\"\"\"\n",
    "\n",
    "# Example usage with a list of titles\n",
    "title_list = Movies['Title'].tolist()\n",
    "max_similarity, idx1, idx2 = max_jaccard(title_list)\n",
    "print(f\"Max Jaccard Similarity: {max_similarity}\")\n",
    "print(title_list[idx1])\n",
    "print(title_list[idx2])\n",
    "print(\"shocking :o\")\n"
   ]
  },
  {
   "cell_type": "markdown",
   "metadata": {},
   "source": [
    "### Finding similar titles and reviews"
   ]
  },
  {
   "cell_type": "code",
   "execution_count": 6,
   "metadata": {},
   "outputs": [
    {
     "name": "stderr",
     "output_type": "stream",
     "text": [
      "100%|██████████| 500/500 [00:02<00:00, 197.37it/s]"
     ]
    },
    {
     "name": "stdout",
     "output_type": "stream",
     "text": [
      "Similarity Score: 0.6\n",
      "Title 1: The Godfather Part II\n",
      "Title 2: The Godfather Part III\n",
      "\n",
      "Similarity Score: 0.6666666666666666\n",
      "Title 1: The Matrix\n",
      "Title 2: The Matrix Reloaded\n",
      "\n",
      "Similarity Score: 0.6666666666666666\n",
      "Title 1: The Matrix\n",
      "Title 2: The Matrix Revolutions\n",
      "\n",
      "Similarity Score: 0.6\n",
      "Title 1: Shaun of the Dead\n",
      "Title 2: Dawn of the Dead\n",
      "\n",
      "Similarity Score: 0.6\n",
      "Title 1: Shaun of the Dead\n",
      "Title 2: Land of the Dead\n",
      "\n",
      "Similarity Score: 0.6\n",
      "Title 1: Shaun of the Dead\n",
      "Title 2: Survival of the Dead\n",
      "\n",
      "Similarity Score: 0.6\n",
      "Title 1: Shaun of the Dead\n",
      "Title 2: Diary of the Dead\n",
      "\n",
      "Similarity Score: 0.6\n",
      "Title 1: Shaun of the Dead\n",
      "Title 2: Day of the Dead\n",
      "\n",
      "Similarity Score: 0.6\n",
      "Title 1: Dawn of the Dead\n",
      "Title 2: Land of the Dead\n",
      "\n",
      "Similarity Score: 1.0\n",
      "Title 1: Dawn of the Dead\n",
      "Title 2: Dawn of the Dead\n",
      "\n",
      "Similarity Score: 0.6\n",
      "Title 1: Dawn of the Dead\n",
      "Title 2: Survival of the Dead\n",
      "\n",
      "Similarity Score: 0.6\n",
      "Title 1: Dawn of the Dead\n",
      "Title 2: Diary of the Dead\n",
      "\n",
      "Similarity Score: 0.6\n",
      "Title 1: Dawn of the Dead\n",
      "Title 2: Day of the Dead\n",
      "\n",
      "Similarity Score: 0.6\n",
      "Title 1: Land of the Dead\n",
      "Title 2: Dawn of the Dead\n",
      "\n",
      "Similarity Score: 0.6\n",
      "Title 1: Land of the Dead\n",
      "Title 2: Survival of the Dead\n",
      "\n",
      "Similarity Score: 0.6\n",
      "Title 1: Land of the Dead\n",
      "Title 2: Diary of the Dead\n",
      "\n",
      "Similarity Score: 0.6\n",
      "Title 1: Land of the Dead\n",
      "Title 2: Day of the Dead\n",
      "\n",
      "Similarity Score: 0.6666666666666666\n",
      "Title 1: Night of the Living Dead\n",
      "Title 2: The Return of the Living Dead\n",
      "\n",
      "Similarity Score: 1.0\n",
      "Title 1: Night of the Living Dead\n",
      "Title 2: Night of the Living Dead\n",
      "\n",
      "Similarity Score: 0.6\n",
      "Title 1: Survival of the Dead\n",
      "Title 2: Diary of the Dead\n",
      "\n",
      "Similarity Score: 0.6\n",
      "Title 1: Survival of the Dead\n",
      "Title 2: Day of the Dead\n",
      "\n",
      "Similarity Score: 0.6\n",
      "Title 1: Diary of the Dead\n",
      "Title 2: Day of the Dead\n",
      "\n",
      "Similarity Score: 0.6666666666666666\n",
      "Title 1: Pet Sematary\n",
      "Title 2: Pet Sematary II\n",
      "\n",
      "Similarity Score: 0.6666666666666666\n",
      "Title 1: The Return of the Living Dead\n",
      "Title 2: Night of the Living Dead\n",
      "\n",
      "Similarity Score: 1.0\n",
      "Title 1: Day of the Dead\n",
      "Title 2: Day of the Dead\n",
      "\n",
      "Similarity Score: 0.6666666666666666\n",
      "Title 1: Die Hard\n",
      "Title 2: Die Hard 4.0\n",
      "\n",
      "Similarity Score: 0.6666666666666666\n",
      "Title 1: Die Hard\n",
      "Title 2: Die Hard 2\n",
      "\n",
      "Similarity Score: 0.6\n",
      "Title 1: Kill Bill: Vol. 1\n",
      "Title 2: Kill Bill: Vol. 2\n",
      "\n",
      "Similarity Score: 0.6666666666666666\n",
      "Title 1: Toy Story\n",
      "Title 2: Toy Story 2\n",
      "\n",
      "Similarity Score: 1.0\n",
      "Title 1: Alice in Wonderland\n",
      "Title 2: Alice in Wonderland\n",
      "\n",
      "Similarity Score: 0.6666666666666666\n",
      "Title 1: American Pie\n",
      "Title 2: American Pie 2\n",
      "\n",
      "Similarity Score: 0.6666666666666666\n",
      "Title 1: Jurassic Park\n",
      "Title 2: Jurassic Park III\n",
      "\n",
      "Similarity Score: 0.6666666666666666\n",
      "Title 1: Paranormal Activity 2\n",
      "Title 2: Paranormal Activity\n",
      "\n",
      "Similarity Score: 1.0\n",
      "Title 1: Planet of the Apes\n",
      "Title 2: Planet of the Apes\n",
      "\n",
      "Similarity Score: 0.6666666666666666\n",
      "Title 1: Scary Movie\n",
      "Title 2: Scary Movie 2\n",
      "\n",
      "Similarity Score: 0.6666666666666666\n",
      "Title 1: Scary Movie\n",
      "Title 2: Scary Movie 3\n",
      "\n",
      "Similarity Score: 0.6666666666666666\n",
      "Title 1: Mad Max\n",
      "Title 2: Mad Max 2\n",
      "\n",
      "Similarity Score: 0.6666666666666666\n",
      "Title 1: Final Destination 2\n",
      "Title 2: Final Destination\n",
      "\n",
      "Similarity Score: 0.6666666666666666\n",
      "Title 1: Bad Boys\n",
      "Title 2: Bad Boys II\n",
      "\n",
      "Similarity Score: 0.75\n",
      "Title 1: Men in Black\n",
      "Title 2: Men in Black II\n",
      "\n",
      "Similarity Score: 0.6666666666666666\n",
      "Title 1: Mission: Impossible III\n",
      "Title 2: Mission: Impossible\n",
      "\n",
      "Similarity Score: 0.6666666666666666\n",
      "Title 1: The Final Destination\n",
      "Title 2: Final Destination\n",
      "\n",
      "Similarity Score: 0.8\n",
      "Title 1: The Hills Have Eyes\n",
      "Title 2: The Hills Have Eyes II\n",
      "\n",
      "Similarity Score: 0.6666666666666666\n",
      "Title 1: Mission: Impossible\n",
      "Title 2: Mission: Impossible II\n",
      "\n",
      "Similarity Score: 0.6666666666666666\n",
      "Title 1: Final Destination 3\n",
      "Title 2: Final Destination\n",
      "\n"
     ]
    },
    {
     "name": "stderr",
     "output_type": "stream",
     "text": [
      "\n"
     ]
    }
   ],
   "source": [
    "# Finds similar titles/descriptions\n",
    "def similar(texts, jaccard_threshold=0.6):\n",
    "    # Create a dictionary to store the similar texts\n",
    "    similar_texts = {}\n",
    "    \n",
    "    # Loop through each name in the list\n",
    "    for i in tqdm(range(len(texts))):\n",
    "        for j in range(i+1, len(texts)):\n",
    "            similarity_score = jaccard(texts[i], texts[j])\n",
    "            if similarity_score >= jaccard_threshold:\n",
    "                similar_texts[(texts[i], texts[j])] = similarity_score\n",
    "    return similar_texts\n",
    "\n",
    "# Example usage:    \n",
    "titles = Movies['Title'][0:500]\n",
    "similar_titles = similar(titles)\n",
    "# Print titles in a way that is easier to read\n",
    "\n",
    "for (desc1, desc2), score in similar_titles.items():\n",
    "    print(f\"Similarity Score: {score}\")\n",
    "    print(f\"Title 1: {desc1}\")\n",
    "    print(f\"Title 2: {desc2}\")\n",
    "    print()\n",
    "# 0.5 secs on 786"
   ]
  },
  {
   "cell_type": "code",
   "execution_count": 7,
   "metadata": {},
   "outputs": [
    {
     "name": "stderr",
     "output_type": "stream",
     "text": [
      "100%|██████████| 4/4 [00:00<?, ?it/s]\n"
     ]
    },
    {
     "data": {
      "text/plain": [
       "{('J a s o n', 'N o j a n'): 0.8}"
      ]
     },
     "execution_count": 7,
     "metadata": {},
     "output_type": "execute_result"
    }
   ],
   "source": [
    "similar(['J a s o n', 'N o j a n', 'N i k l a s', 'A m a l i e'])"
   ]
  },
  {
   "cell_type": "code",
   "execution_count": 8,
   "metadata": {},
   "outputs": [],
   "source": [
    "# # Example usage for finding similar descriptions\n",
    "# reviews = Reviews['Review']\n",
    "# similar_descriptions = similar(reviews, jaccard_threshold=0.4)\n",
    "\n",
    "# for (desc1, desc2), score in similar_descriptions.items():\n",
    "#     print(f\"Similarity Score: {score}\")\n",
    "#     print(f\"Description 1: {desc1}\")\n",
    "#     print(f\"Description 2: {desc2}\") \n",
    "#     print()\n",
    "\n",
    "# # tqdm estimates ~1:20 hours for 786 reviews\n"
   ]
  },
  {
   "cell_type": "code",
   "execution_count": 9,
   "metadata": {},
   "outputs": [],
   "source": [
    "# def clean_text_string(text):\n",
    "#     tokens = word_tokenize(text)\n",
    "#     clean_tokens = []\n",
    "    \n",
    "#     for token in tokens:\n",
    "#         # Convert to lowercase\n",
    "#         token = token.lower()\n",
    "        \n",
    "#         # Remove punctuation\n",
    "#         if token not in string.punctuation:\n",
    "#             # Remove stopwords\n",
    "#             if token not in stopwords.words('english'):\n",
    "#                 clean_tokens.append(token)\n",
    "\n",
    "#     return ' '.join(clean_tokens)\n",
    "\n",
    "# def lemmatize_text_string(text):\n",
    "#     lemmatizer = WordNetLemmatizer()\n",
    "#     tokens = word_tokenize(text)\n",
    "#     lemmatized_tokens = []\n",
    "    \n",
    "#     for token in tokens:\n",
    "#         lemmatized_tokens.append(lemmatizer.lemmatize(token))\n",
    "    \n",
    "#     return ' '.join(lemmatized_tokens)\n",
    "\n",
    "# def get_movie_reviews(movie_id):\n",
    "#     movie_reviews = reviews[reviews['Movie ID'] == movie_id]['Review']\n",
    "#     return movie_reviews\n",
    "\n",
    "# def get_movie_reviews_cleaned(movie_id):\n",
    "#     movie_reviews = get_movie_reviews(movie_id)\n",
    "#     movie_reviews_cleaned = movie_reviews.apply(clean_text_string)\n",
    "#     return movie_reviews_cleaned\n",
    "\n",
    "# def get_movie_reviews_lemmatized(movie_id):\n",
    "#     movie_reviews = get_movie_reviews(movie_id)\n",
    "#     movie_reviews_lemmatized = movie_reviews.apply(lemmatize_text_string)\n",
    "#     return movie_reviews_lemmatized\n",
    "\n",
    "# # Test on first movie, first review\n",
    "# movie_id = movies['ID'][0]\n",
    "# raw = get_movie_reviews(movie_id)[0]\n",
    "# clean = get_movie_reviews_cleaned(movie_id)[0]\n",
    "# lemmatized = get_movie_reviews_lemmatized(movie_id)[0]\n",
    "# print(f\"Raw review: {raw}\")\n",
    "# print(f\"Cleaned review: {clean}\")\n",
    "# print(f\"Lemmatized review: {lemmatized}\")"
   ]
  },
  {
   "cell_type": "code",
   "execution_count": 21,
   "metadata": {},
   "outputs": [
    {
     "name": "stdout",
     "output_type": "stream",
     "text": [
      "{0: 'The Shawshank Redemption', 1: 'The Godfather'}\n",
      "0\n",
      "The Shawshank Redemption\n",
      "1\n",
      "The Godfather\n"
     ]
    }
   ],
   "source": [
    "titles = Movies['Title'][0:2].to_dict()\n",
    "\n",
    "print(titles)\n",
    "\n",
    "for key, values in titles.items():\n",
    "    print(key)\n",
    "    print(values)"
   ]
  },
  {
   "cell_type": "code",
   "execution_count": 17,
   "metadata": {},
   "outputs": [
    {
     "data": {
      "text/plain": [
       "['Ja', 'so', 'n ', 'Fu', 'ck']"
      ]
     },
     "execution_count": 17,
     "metadata": {},
     "output_type": "execute_result"
    }
   ],
   "source": [
    "# Function to split words into k parts\n",
    "def split_k(word,k):\n",
    "    if word is np.nan:\n",
    "        return []\n",
    "    else:\n",
    "        n = len(word)\n",
    "    if k > n:\n",
    "        return split_k(word,int(k/2))\n",
    "    else:\n",
    "        if k == 0:\n",
    "            return word\n",
    "        n1 = n//k\n",
    "        n2 = n1 + n%k\n",
    "        return [word[i:i+n1] for i in range(0, n, n1)]\n",
    "\n",
    "split_k(\"Jason Fuck\", 4)"
   ]
  },
  {
   "cell_type": "code",
   "execution_count": 25,
   "metadata": {},
   "outputs": [],
   "source": [
    "# Implement the LSH algorithm\n",
    "b = 10\n",
    "\n",
    "def lsh(index, names, jaccard_threshold, seed):\n",
    "    \"\"\"Find similar items to index\"\"\"\n",
    "    lsh_dict = {}\n",
    "    for key, name in names.to_dict().items():\n",
    "        blocks = split_k(name,b)\n",
    "        blocks_hash_values = []\n",
    "        for aBlock in blocks:\n",
    "            blocks_hash_values.append(mmh3.hash(aBlock, seed))\n",
    "        lsh_dict[key] = blocks_hash_values\n",
    "    list_keys = list(lsh_dict.keys())\n",
    "    similar_items = {}\n",
    "    for i in range(len(list_keys)-1):\n",
    "        common_values = np.intersect1d(lsh_dict[list_keys[index]], lsh_dict[list_keys[i]])\n",
    "        if len(common_values) > 0:\n",
    "            # we found a candidate\n",
    "            similarity_score = jaccard(names[index], names[list_keys[i]])\n",
    "            if similarity_score >= jaccard_threshold:\n",
    "                similar_items[names[index], list_keys[i]] = similarity_score\n",
    "    return similar_items\n"
   ]
  },
  {
   "cell_type": "code",
   "execution_count": 26,
   "metadata": {},
   "outputs": [
    {
     "name": "stdout",
     "output_type": "stream",
     "text": [
      "25\n",
      "Dead Snow\n",
      "Similarity Score: 0.25\n",
      "Title 1: Dead Snow\n",
      "Title 2: The Walking Dead\n",
      "\n",
      "Similarity Score: 0.2\n",
      "Title 1: Dead Snow\n",
      "Title 2: Shaun of the Dead\n",
      "\n",
      "Similarity Score: 0.2\n",
      "Title 1: Dead Snow\n",
      "Title 2: Dawn of the Dead\n",
      "\n",
      "Similarity Score: 1.0\n",
      "Title 1: Dead Snow\n",
      "Title 2: Dead Snow\n",
      "\n",
      "Similarity Score: 0.2\n",
      "Title 1: Dead Snow\n",
      "Title 2: Land of the Dead\n",
      "\n",
      "Similarity Score: 0.2\n",
      "Title 1: Dead Snow\n",
      "Title 2: Dawn of the Dead\n",
      "\n",
      "Similarity Score: 0.2\n",
      "Title 1: Dead Snow\n",
      "Title 2: Diary of the Dead\n",
      "\n",
      "Similarity Score: 0.2\n",
      "Title 1: Dead Snow\n",
      "Title 2: Day of the Dead\n",
      "\n",
      "Similarity Score: 0.2\n",
      "Title 1: Dead Snow\n",
      "Title 2: Day of the Dead\n",
      "\n",
      "Similarity Score: 0.2\n",
      "Title 1: Dead Snow\n",
      "Title 2: The Dead Next Door\n",
      "\n",
      "Similarity Score: 0.25\n",
      "Title 1: Dead Snow\n",
      "Title 2: The Evil Dead\n",
      "\n",
      "Similarity Score: 0.2\n",
      "Title 1: Dead Snow\n",
      "Title 2: DOA: Dead or Alive\n",
      "\n",
      "Similarity Score: 0.25\n",
      "Title 1: Dead Snow\n",
      "Title 2: Evil Dead II\n",
      "\n",
      "Similarity Score: 0.2\n",
      "Title 1: Dead Snow\n",
      "Title 2: Over Her Dead Body\n",
      "\n",
      "Similarity Score: 0.2\n",
      "Title 1: Dead Snow\n",
      "Title 2: Dance of the Dead\n",
      "\n"
     ]
    }
   ],
   "source": [
    "# Which index is movie title Dead Snow\n",
    "title = 'Dead Snow'\n",
    "index = Movies[Movies['Title'] == title].index[0]\n",
    "print(index)\n",
    "print(Movies['Title'][index])\n",
    "\n",
    "n = len(Movies)\n",
    "titles = Movies['Title'][0:n]\n",
    "found_similar_items_with_lsh = lsh(index,titles,jaccard_threshold=0.2,seed=42)\n",
    "\n",
    "# Print results\n",
    "for (title1, index), score in found_similar_items_with_lsh.items():\n",
    "    print(f\"Similarity Score: {score}\")\n",
    "    print(f\"Title 1: {title1}\")\n",
    "    print(f\"Title 2: {titles[index]}\")\n",
    "    print()"
   ]
  },
  {
   "cell_type": "markdown",
   "metadata": {},
   "source": [
    "## Heatmap based on titles <a id=\"heatmap-based-on-titles\"></a> <br>\n",
    "To illustrate which titles that have the highest Jaccard similarity, we have plotted a heatmap.\n",
    "Note that now we have $n=2000$, meaning that we only use a small subset of the data set. The heat maps in the repport are made of a larger subset. This is due to time efficiency."
   ]
  },
  {
   "cell_type": "code",
   "execution_count": 30,
   "metadata": {},
   "outputs": [
    {
     "name": "stdout",
     "output_type": "stream",
     "text": [
      "0\n",
      "Similarity Score: 0.6\n",
      "Title 1: Shaun of the Dead\n",
      "Title 2: Dawn of the Dead\n",
      "\n",
      "Similarity Score: 0.6\n",
      "Title 1: Shaun of the Dead\n",
      "Title 2: Land of the Dead\n",
      "\n",
      "Similarity Score: 0.6\n",
      "Title 1: Shaun of the Dead\n",
      "Title 2: Dawn of the Dead\n",
      "\n",
      "Similarity Score: 0.6\n",
      "Title 1: Shaun of the Dead\n",
      "Title 2: Diary of the Dead\n",
      "\n",
      "Similarity Score: 0.6\n",
      "Title 1: Shaun of the Dead\n",
      "Title 2: Day of the Dead\n",
      "\n",
      "Similarity Score: 0.6\n",
      "Title 1: Dawn of the Dead\n",
      "Title 2: Land of the Dead\n",
      "\n",
      "Similarity Score: 1.0\n",
      "Title 1: Dawn of the Dead\n",
      "Title 2: Dawn of the Dead\n",
      "\n",
      "Similarity Score: 0.6\n",
      "Title 1: Dawn of the Dead\n",
      "Title 2: Diary of the Dead\n",
      "\n",
      "Similarity Score: 0.6\n",
      "Title 1: Dawn of the Dead\n",
      "Title 2: Day of the Dead\n",
      "\n",
      "Similarity Score: 0.6\n",
      "Title 1: Land of the Dead\n",
      "Title 2: Dawn of the Dead\n",
      "\n",
      "Similarity Score: 0.6\n",
      "Title 1: Land of the Dead\n",
      "Title 2: Diary of the Dead\n",
      "\n",
      "Similarity Score: 0.6\n",
      "Title 1: Land of the Dead\n",
      "Title 2: Day of the Dead\n",
      "\n",
      "Similarity Score: 0.6\n",
      "Title 1: Dawn of the Dead\n",
      "Title 2: Diary of the Dead\n",
      "\n",
      "Similarity Score: 0.6\n",
      "Title 1: Dawn of the Dead\n",
      "Title 2: Day of the Dead\n",
      "\n",
      "Similarity Score: 1.0\n",
      "Title 1: Night of the Living Dead\n",
      "Title 2: Night of the Living Dead\n",
      "\n",
      "Similarity Score: 0.6\n",
      "Title 1: Diary of the Dead\n",
      "Title 2: Day of the Dead\n",
      "\n"
     ]
    }
   ],
   "source": [
    "# Implement the LSH algorithm\n",
    "b = 10\n",
    "\n",
    "def lsh(names, jaccard_threshold,seed):\n",
    "    lsh_dict = {}\n",
    "    for key, name in names.to_dict().items():\n",
    "        blocks = split_k(name,b)\n",
    "        blocks_hash_values = []\n",
    "        for aBlock in blocks:\n",
    "            blocks_hash_values.append(mmh3.hash(aBlock, seed))\n",
    "        lsh_dict[key] = blocks_hash_values\n",
    "    list_keys = list(lsh_dict.keys())\n",
    "    similar_items = {}\n",
    "    for i in range(len(list_keys)-1):\n",
    "        if i% 500 == 0:\n",
    "            print(i)\n",
    "        for j in range(i+1, len(list_keys)):\n",
    "            common_values = np.intersect1d(lsh_dict[list_keys[i]], lsh_dict[list_keys[j]])\n",
    "            if len(common_values) > 0:\n",
    "                # we found a candidate\n",
    "                similarity_score = jaccard(names[list_keys[i]], names[list_keys[j]])\n",
    "                if similarity_score >= jaccard_threshold:\n",
    "                    similar_items[(list_keys[i], list_keys[j])] = similarity_score\n",
    "    return similar_items\n",
    "\n",
    "\n",
    "\n",
    "n = 100\n",
    "titles = Movies['Title'][0:n]\n",
    "found_similar_items_with_lsh = lsh(titles,jaccard_threshold=0.6,seed=42)\n",
    "\n",
    "# Print the results\n",
    "for (title1, title2), score in found_similar_items_with_lsh.items():\n",
    "    print(f\"Similarity Score: {score}\")\n",
    "    print(f\"Title 1: {titles[title1]}\")\n",
    "    print(f\"Title 2: {titles[title2]}\")\n",
    "    print()"
   ]
  },
  {
   "cell_type": "code",
   "execution_count": 31,
   "metadata": {},
   "outputs": [
    {
     "data": {
      "text/plain": [
       "{(14, 21): 0.6,\n",
       " (14, 29): 0.6,\n",
       " (14, 30): 0.6,\n",
       " (14, 34): 0.6,\n",
       " (14, 37): 0.6,\n",
       " (21, 29): 0.6,\n",
       " (21, 34): 0.6,\n",
       " (21, 37): 0.6,\n",
       " (29, 30): 0.6,\n",
       " (29, 34): 0.6,\n",
       " (29, 37): 0.6,\n",
       " (30, 34): 0.6,\n",
       " (30, 37): 0.6,\n",
       " (34, 37): 0.6}"
      ]
     },
     "execution_count": 31,
     "metadata": {},
     "output_type": "execute_result"
    }
   ],
   "source": [
    "found_similar_items_with_lsh_new = {}\n",
    "# Remove all with jaccard with score 1 from the dictionary found_similar_items_with_lsh\n",
    "\n",
    "for (idx1, idx2), score in found_similar_items_with_lsh.items():\n",
    "    if score < 1.0:\n",
    "        found_similar_items_with_lsh_new[idx1,idx2] = score\n",
    "\n",
    "found_similar_items_with_lsh_new"
   ]
  },
  {
   "cell_type": "code",
   "execution_count": 32,
   "metadata": {},
   "outputs": [],
   "source": [
    "# Plot a heatmap with the found_similar_items_lhs dictionary\n",
    "\n",
    "# Create a heatmap\n",
    "def plot_heatmap(found_similar_items_lhs_new, plot_title):\n",
    "    plt.figure(figsize=(8,8))\n",
    "    # Create a list of keys\n",
    "    keys = list(found_similar_items_lhs_new.keys())\n",
    "    \n",
    "    # Create a list of values\n",
    "    values = list(found_similar_items_lhs_new.values())\n",
    "    \n",
    "    # Create a list of the first items in each key\n",
    "    key1 = [key[0] for key in keys]\n",
    "    \n",
    "    # Create a list of the second items in each key\n",
    "    key2 = [key[1] for key in keys]\n",
    "    \n",
    "    # Create a dataframe with the keys and values\n",
    "    df = pd.DataFrame({'key1': key1, 'key2': key2, 'values': values})\n",
    "    \n",
    "    # Create a pivot table from the dataframe\n",
    "    df_pivot = df.pivot(index='key1', columns='key2', values='values')\n",
    "    \n",
    "    # Create a heatmap from the pivot table\n",
    "    sns.heatmap(df_pivot, cmap='crest')\n",
    "\n",
    "    # Add gridlines to the heatmap\n",
    "    plt.grid()\n",
    "    \n",
    "    plt.title(plot_title)\n",
    "\n",
    "    # Show the plot\n",
    "    plt.show()"
   ]
  },
  {
   "cell_type": "code",
   "execution_count": 33,
   "metadata": {},
   "outputs": [
    {
     "data": {
      "image/png": "[encoded data removed]",
      "text/plain": [
       "<Figure size 800x800 with 2 Axes>"
      ]
     },
     "metadata": {},
     "output_type": "display_data"
    }
   ],
   "source": [
    "# plot book titles instead of keys\n",
    "found_similar_items_with_lsh_new = {(titles[key1], titles[key2]): value for (key1, key2), value in found_similar_items_with_lsh_new.items()}\n",
    "plot_heatmap(found_similar_items_with_lsh_new,plot_title='Heatmap of similar book titles')"
   ]
  },
  {
   "cell_type": "code",
   "execution_count": 39,
   "metadata": {},
   "outputs": [
    {
     "data": {
      "text/plain": [
       "['JAson']"
      ]
     },
     "execution_count": 39,
     "metadata": {},
     "output_type": "execute_result"
    }
   ],
   "source": [
    "word_tokenize(\"JAson\")"
   ]
  },
  {
   "cell_type": "code",
   "execution_count": null,
   "metadata": {},
   "outputs": [
    {
     "name": "stderr",
     "output_type": "stream",
     "text": [
      "[nltk_data] Downloading package punkt_tab to\n",
      "[nltk_data]     C:\\Users\\Jason\\AppData\\Roaming\\nltk_data...\n",
      "[nltk_data]   Unzipping tokenizers\\punkt_tab.zip.\n"
     ]
    },
    {
     "data": {
      "text/plain": [
       "True"
      ]
     },
     "execution_count": 38,
     "metadata": {},
     "output_type": "execute_result"
    }
   ],
   "source": []
  },
  {
   "cell_type": "markdown",
   "metadata": {},
   "source": [
    "## Heatmap based on descriptions <a id=\"heatmap-based-on-desc\"></a> <br>\n"
   ]
  },
  {
   "cell_type": "code",
   "execution_count": 42,
   "metadata": {},
   "outputs": [
    {
     "name": "stdout",
     "output_type": "stream",
     "text": [
      "test sentence contains punctuation\n"
     ]
    }
   ],
   "source": [
    "def clean_text(text):\n",
    "    tokens = word_tokenize(text)\n",
    "    clean_tokens = []\n",
    "    \n",
    "    for token in tokens:\n",
    "        # Convert to lowercase\n",
    "        token = token.lower()\n",
    "        \n",
    "        # Remove punctuation\n",
    "        if token not in string.punctuation:\n",
    "            # Remove stopwords\n",
    "            if token not in stopwords.words('english'):\n",
    "                clean_tokens.append(token)\n",
    "    \n",
    "    return clean_tokens\n",
    "\n",
    "# Transform output into a single string\n",
    "def clean_text_string(text):\n",
    "    tokens = word_tokenize(text)\n",
    "    clean_tokens = []\n",
    "    \n",
    "    for token in tokens:\n",
    "        # Convert to lowercase\n",
    "        token = token.lower()\n",
    "        \n",
    "        # Remove punctuation\n",
    "        if token not in string.punctuation:\n",
    "            # Remove stopwords\n",
    "            if token not in stopwords.words('english'):\n",
    "                clean_tokens.append(token)\n",
    "\n",
    "    return ' '.join(clean_tokens)\n",
    "\n",
    "# Example usage\n",
    "test = 'This is a test sentence. It contains punctuation!'\n",
    "print(clean_text_string(test))\n"
   ]
  },
  {
   "cell_type": "code",
   "execution_count": null,
   "metadata": {},
   "outputs": [
    {
     "data": {
      "text/plain": [
       "125"
      ]
     },
     "execution_count": 48,
     "metadata": {},
     "output_type": "execute_result"
    }
   ],
   "source": [
    "Movies_desc = pd.read_csv('data/movie_titles_and_ids.csv')\n",
    "len(Movies_desc)"
   ]
  },
  {
   "cell_type": "code",
   "execution_count": 62,
   "metadata": {},
   "outputs": [
    {
     "data": {
      "text/plain": [
       "125"
      ]
     },
     "execution_count": 62,
     "metadata": {},
     "output_type": "execute_result"
    }
   ],
   "source": [
    "# Take the 200 books with highest n_ratings in a new dataframe\n",
    "Movies_desc_ = Movies_desc.sort_values('Rating', ascending=False)\n",
    "# Reset index\n",
    "Movies_desc_ = Movies_desc_.reset_index(drop=True)\n",
    "# Movies_desc_ = Movies_desc_[0:50].reset_index(drop=True)\n",
    "len(Movies_desc_)"
   ]
  },
  {
   "cell_type": "code",
   "execution_count": 63,
   "metadata": {},
   "outputs": [],
   "source": [
    "# Apply the clean_text_string function to the description column\n",
    "Movies_desc_['Description_clean'] = Movies_desc_['Description'].apply(clean_text_string)"
   ]
  },
  {
   "cell_type": "code",
   "execution_count": 64,
   "metadata": {},
   "outputs": [
    {
     "name": "stdout",
     "output_type": "stream",
     "text": [
      "0\n"
     ]
    }
   ],
   "source": [
    "# run lsh on descriptions\n",
    "b = 10\n",
    "n = len(Movies_desc_)\n",
    "\n",
    "descriptions = Movies_desc_['Description_clean'][0:n]\n",
    "similar_descriptions = lsh(descriptions,jaccard_threshold=0.1,seed=42)\n",
    "# Print the results\n",
    "for (desc1, desc2), score in similar_descriptions.items():\n",
    "    if score < 1:\n",
    "        print(f\"Similarity Score: {score}\")\n",
    "        print(f\"Description 1: {descriptions[desc1]}\")\n",
    "        print(f\"Description 2: {descriptions[desc2]}\")\n",
    "        print()"
   ]
  }
 ],
 "metadata": {
  "kernelspec": {
   "display_name": "Python 3",
   "language": "python",
   "name": "python3"
  },
  "language_info": {
   "codemirror_mode": {
    "name": "ipython",
    "version": 3
   },
   "file_extension": ".py",
   "mimetype": "text/x-python",
   "name": "python",
   "nbconvert_exporter": "python",
   "pygments_lexer": "ipython3",
   "version": "3.12.7"
  }
 },
 "nbformat": 4,
 "nbformat_minor": 2
}
