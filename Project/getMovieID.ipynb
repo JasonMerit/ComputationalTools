{
 "cells": [
  {
   "cell_type": "code",
   "execution_count": 39,
   "metadata": {},
   "outputs": [],
   "source": [
    "from bs4 import BeautifulSoup\n",
    "import requests\n",
    "import pandas as pd\n",
    "\n",
    "data = []\n",
    "\n",
    "headers={'User-Agent':'Mozilla/5.0 (Windows NT 6.3; Win 64 ; x64) Apple WeKit /537.36(KHTML , like Gecko) Chrome/80.0.3987.162 Safari/537.36'}\n",
    "\n",
    "res = requests.get(\"https://www.imdb.com/chart/top/\", headers=headers)\n",
    "#print(res)\n",
    "soup = BeautifulSoup(res.text, \"html.parser\")"
   ]
  },
  {
   "cell_type": "code",
   "execution_count": 48,
   "metadata": {},
   "outputs": [
    {
     "name": "stdout",
     "output_type": "stream",
     "text": [
      "25\n"
     ]
    },
    {
     "data": {
      "text/plain": [
       "['', 'title', 'tt0317248', '?ref_=chttp_t_25']"
      ]
     },
     "execution_count": 48,
     "metadata": {},
     "output_type": "execute_result"
    }
   ],
   "source": [
    "#soup.select('ipc-metadata-list ipc-metadata-list--dividers-between sc-a1e81754-0 iyTDQy compact-list-view ipc-metadata-list--base')\n",
    "mydivsID = soup.find_all(\"a\", {\"class\": \"ipc-title-link-wrapper\"})\n",
    "print(len(mydivsID))\n",
    "\n",
    "\n",
    "mydivsID[24]['href'].split('/')"
   ]
  },
  {
   "cell_type": "code",
   "execution_count": 49,
   "metadata": {},
   "outputs": [],
   "source": [
    "for movie in mydivsID:\n",
    "    title = movie.text\n",
    "    id = movie['href'].split('/')[2]\n",
    "    data.append([title, id])"
   ]
  },
  {
   "cell_type": "code",
   "execution_count": 50,
   "metadata": {},
   "outputs": [
    {
     "data": {
      "text/plain": [
       "[['1. En verden udenfor', 'tt0111161'],\n",
       " ['2. Godfather', 'tt0068646'],\n",
       " ['3. The Dark Knight', 'tt0468569'],\n",
       " ['4. Godfather del 2', 'tt0071562'],\n",
       " ['5. Tolv vrede mænd', 'tt0050083'],\n",
       " ['6. Ringenes herre: Kongen vender tilbage', 'tt0167260'],\n",
       " ['7. Schindlers liste', 'tt0108052'],\n",
       " ['8. Pulp Fiction', 'tt0110912'],\n",
       " ['9. Ringenes herre: Eventyret om ringen', 'tt0120737'],\n",
       " ['10. Den gode, den onde og den grusomme', 'tt0060196'],\n",
       " ['11. Forrest Gump', 'tt0109830'],\n",
       " ['12. Ringenes herre: De to tårne', 'tt0167261'],\n",
       " ['13. Fight Club', 'tt0137523'],\n",
       " ['14. Inception', 'tt1375666'],\n",
       " ['15. Imperiet slår igen', 'tt0080684'],\n",
       " ['16. The Matrix', 'tt0133093'],\n",
       " ['17. Goodfellas', 'tt0099685'],\n",
       " ['18. Gøgereden', 'tt0073486'],\n",
       " ['19. Interstellar', 'tt0816692'],\n",
       " ['20. Seven', 'tt0114369'],\n",
       " ['21. Det er herligt at leve', 'tt0038650'],\n",
       " ['22. De syv samuraier', 'tt0047478'],\n",
       " ['23. Ondskabens øjne', 'tt0102926'],\n",
       " ['24. Saving Private Ryan', 'tt0120815'],\n",
       " ['25. City of God', 'tt0317248']]"
      ]
     },
     "execution_count": 50,
     "metadata": {},
     "output_type": "execute_result"
    }
   ],
   "source": [
    "data"
   ]
  }
 ],
 "metadata": {
  "kernelspec": {
   "display_name": "base",
   "language": "python",
   "name": "python3"
  },
  "language_info": {
   "codemirror_mode": {
    "name": "ipython",
    "version": 3
   },
   "file_extension": ".py",
   "mimetype": "text/x-python",
   "name": "python",
   "nbconvert_exporter": "python",
   "pygments_lexer": "ipython3",
   "version": "3.9.7"
  }
 },
 "nbformat": 4,
 "nbformat_minor": 2
}
