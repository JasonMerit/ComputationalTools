{
 "cells": [
  {
   "cell_type": "markdown",
   "metadata": {},
   "source": [
    "# Gathering all movie metrics given movie ID"
   ]
  },
  {
   "cell_type": "code",
   "execution_count": 1,
   "metadata": {},
   "outputs": [],
   "source": [
    "import requests\n",
    "from bs4 import BeautifulSoup"
   ]
  },
  {
   "cell_type": "code",
   "execution_count": 2,
   "metadata": {},
   "outputs": [],
   "source": [
    "movie_url = 'https://www.imdb.com/title/tt0111161/'\n",
    "# movie_url = 'https://www.imdb.com/title/tt7737800/'\n",
    "headers = {'user-agent': 'my-app/0.0.1', 'Accept-Language': 'en-US,en;q=0.5'}\n",
    "r = requests.get(url=movie_url, headers=headers)\n",
    "soup = BeautifulSoup(r.text, 'html.parser')"
   ]
  },
  {
   "cell_type": "code",
   "execution_count": 3,
   "metadata": {},
   "outputs": [
    {
     "name": "stdout",
     "output_type": "stream",
     "text": [
      "title = 'The Shawshank Redemption'\n",
      "id = 'tt0111161'\n",
      "description = 'A banker convicted of uxoricide forms a friendship over a quarter century with a hardened convict, while maintaining his innocence and trying to remain hopeful through simple compassion.'\n",
      "avg_rating = 9.3\n",
      "rating_count = 2960812\n",
      "content_rating = 'R'\n",
      "genre = ['Drama']\n",
      "release_year = 1994\n",
      "keywords = 'prison,based on the works of stephen king,escape from prison,wrongful conviction,1940s'\n",
      "cast = ['Tim Robbins', 'Morgan Freeman', 'Bob Gunton']\n",
      "writer = ['Stephen King', 'Frank Darabont']\n",
      "director = ['Frank Darabont']\n",
      "duration = 'PT2H22M'\n",
      "metascore = 82\n"
     ]
    }
   ],
   "source": [
    "import json\n",
    "\n",
    "json_data = soup.find('script', type='application/ld+json').text\n",
    "json_data = json.loads(json_data)\n",
    "\n",
    "# for key, value in json_data.items():\n",
    "#     print(f'{key} : {value}')\n",
    "# print()\n",
    "\n",
    "title = json_data['name']\n",
    "print(f'{title = }')\n",
    "\n",
    "id = json_data['url'].split('/')[4]\n",
    "print(f'{id = }')\n",
    "\n",
    "description = json_data['description']\n",
    "print(f'{description = }')\n",
    "\n",
    "aggregateRating = json_data['aggregateRating']\n",
    "avg_rating = aggregateRating['ratingValue']\n",
    "print(f'{avg_rating = }')\n",
    "\n",
    "rating_count = aggregateRating['ratingCount']\n",
    "print(f'{rating_count = }')\n",
    "\n",
    "content_rating = json_data['contentRating']\n",
    "print(f'{content_rating = }')\n",
    "\n",
    "genre = json_data['genre']\n",
    "print(f'{genre = }')\n",
    "\n",
    "release_date = json_data['datePublished']\n",
    "release_year = int(release_date.split('-')[0])\n",
    "print(f'{release_year = }')\n",
    "\n",
    "keywords = json_data['keywords']\n",
    "print(f'{keywords = }')\n",
    "\n",
    "actor = json_data['actor']\n",
    "cast = [a['name'] for a in actor]\n",
    "print(f'{cast = }')\n",
    "\n",
    "creator = json_data['creator']\n",
    "writer = [c['name'] for c in creator if c['@type'] == 'Person']\n",
    "print(f'{writer = }')\n",
    "\n",
    "director = json_data['director']\n",
    "director = [d['name'] for d in director]\n",
    "print(f'{director = }')\n",
    "\n",
    "duration = json_data['duration']\n",
    "print(f'{duration = }')\n",
    "\n",
    "json_data = json.loads(soup.find('script', id='__NEXT_DATA__').text)\n",
    "metascore = json_data['props']['pageProps']['aboveTheFoldData']['metacritic']['metascore']['score']\n",
    "print(f'{metascore = }')"
   ]
  }
 ],
 "metadata": {
  "kernelspec": {
   "display_name": "Python 3",
   "language": "python",
   "name": "python3"
  },
  "language_info": {
   "codemirror_mode": {
    "name": "ipython",
    "version": 3
   },
   "file_extension": ".py",
   "mimetype": "text/x-python",
   "name": "python",
   "nbconvert_exporter": "python",
   "pygments_lexer": "ipython3",
   "version": "3.12.7"
  }
 },
 "nbformat": 4,
 "nbformat_minor": 2
}
