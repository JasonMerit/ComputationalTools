{
 "cells": [
  {
   "cell_type": "markdown",
   "metadata": {},
   "source": [
    "# Gathering all movie metrics given movie ID"
   ]
  },
  {
   "cell_type": "code",
   "execution_count": 3,
   "metadata": {},
   "outputs": [],
   "source": [
    "import requests\n",
    "from bs4 import BeautifulSoup"
   ]
  },
  {
   "cell_type": "code",
   "execution_count": 11,
   "metadata": {},
   "outputs": [],
   "source": [
    "movie_url = 'https://www.imdb.com/title/tt0111161/'\n",
    "movie_url = 'https://www.imdb.com/title/tt1077258/'\n",
    "# movie_url = 'https://www.imdb.com/title/tt0797004/'\n",
    "# movie_url = 'https://www.imdb.com/title/tt7737800/'\n",
    "headers = {'user-agent': 'my-app/0.0.1', 'Accept-Language': 'en-US,en;q=0.5'}\n",
    "r = requests.get(url=movie_url, headers=headers)\n",
    "soup = BeautifulSoup(r.text, 'html.parser')"
   ]
  },
  {
   "cell_type": "code",
   "execution_count": 12,
   "metadata": {},
   "outputs": [
    {
     "name": "stdout",
     "output_type": "stream",
     "text": [
      "title = 'Planet Terror'\n",
      "id = 'tt1077258'\n",
      "description = 'After an experimental bio-weapon is released, turning thousands into zombie-like creatures, it&apos;s up to a rag-tag group of survivors to stop the infected and those behind its release.'\n",
      "avg_rating = 7\n",
      "rating_count = 226211\n",
      "content_rating = 'R'\n",
      "genre = 'Action/Comedy/Horror'\n",
      "release_year = 2007\n",
      "keywords = 'zombie,zombie apocalypse,survival horror,zombie survival,go go dancer'\n",
      "cast = 'Rose McGowan/Freddy Rodríguez/Josh Brolin'\n",
      "writer = 'Robert Rodriguez'\n",
      "director = 'Robert Rodriguez'\n",
      "duration = 'PT1H45M'\n"
     ]
    },
    {
     "ename": "TypeError",
     "evalue": "'NoneType' object is not subscriptable",
     "output_type": "error",
     "traceback": [
      "\u001b[1;31m---------------------------------------------------------------------------\u001b[0m",
      "\u001b[1;31mTypeError\u001b[0m                                 Traceback (most recent call last)",
      "Cell \u001b[1;32mIn[12], line 56\u001b[0m\n\u001b[0;32m     53\u001b[0m \u001b[38;5;28mprint\u001b[39m(\u001b[38;5;124mf\u001b[39m\u001b[38;5;124m'\u001b[39m\u001b[38;5;132;01m{\u001b[39;00mduration\u001b[38;5;250m \u001b[39m\u001b[38;5;132;01m= }\u001b[39;00m\u001b[38;5;124m'\u001b[39m)\n\u001b[0;32m     55\u001b[0m json_data \u001b[38;5;241m=\u001b[39m json\u001b[38;5;241m.\u001b[39mloads(soup\u001b[38;5;241m.\u001b[39mfind(\u001b[38;5;124m'\u001b[39m\u001b[38;5;124mscript\u001b[39m\u001b[38;5;124m'\u001b[39m, \u001b[38;5;28mid\u001b[39m\u001b[38;5;241m=\u001b[39m\u001b[38;5;124m'\u001b[39m\u001b[38;5;124m__NEXT_DATA__\u001b[39m\u001b[38;5;124m'\u001b[39m)\u001b[38;5;241m.\u001b[39mtext)\n\u001b[1;32m---> 56\u001b[0m metascore \u001b[38;5;241m=\u001b[39m \u001b[43mjson_data\u001b[49m\u001b[43m[\u001b[49m\u001b[38;5;124;43m'\u001b[39;49m\u001b[38;5;124;43mprops\u001b[39;49m\u001b[38;5;124;43m'\u001b[39;49m\u001b[43m]\u001b[49m\u001b[43m[\u001b[49m\u001b[38;5;124;43m'\u001b[39;49m\u001b[38;5;124;43mpageProps\u001b[39;49m\u001b[38;5;124;43m'\u001b[39;49m\u001b[43m]\u001b[49m\u001b[43m[\u001b[49m\u001b[38;5;124;43m'\u001b[39;49m\u001b[38;5;124;43maboveTheFoldData\u001b[39;49m\u001b[38;5;124;43m'\u001b[39;49m\u001b[43m]\u001b[49m\u001b[43m[\u001b[49m\u001b[38;5;124;43m'\u001b[39;49m\u001b[38;5;124;43mmetacritic\u001b[39;49m\u001b[38;5;124;43m'\u001b[39;49m\u001b[43m]\u001b[49m\u001b[43m[\u001b[49m\u001b[38;5;124;43m'\u001b[39;49m\u001b[38;5;124;43mmetascore\u001b[39;49m\u001b[38;5;124;43m'\u001b[39;49m\u001b[43m]\u001b[49m[\u001b[38;5;124m'\u001b[39m\u001b[38;5;124mscore\u001b[39m\u001b[38;5;124m'\u001b[39m]\n\u001b[0;32m     57\u001b[0m \u001b[38;5;28mprint\u001b[39m(\u001b[38;5;124mf\u001b[39m\u001b[38;5;124m'\u001b[39m\u001b[38;5;132;01m{\u001b[39;00mmetascore\u001b[38;5;250m \u001b[39m\u001b[38;5;132;01m= }\u001b[39;00m\u001b[38;5;124m'\u001b[39m)\n",
      "\u001b[1;31mTypeError\u001b[0m: 'NoneType' object is not subscriptable"
     ]
    }
   ],
   "source": [
    "import json\n",
    "\n",
    "json_data = soup.find('script', type='application/ld+json').text\n",
    "json_data = json.loads(json_data)\n",
    "\n",
    "# for key, value in json_data.items():\n",
    "#     print(f'{key} : {value}')\n",
    "# print()\n",
    "\n",
    "title = json_data['name']\n",
    "print(f'{title = }')\n",
    "\n",
    "id = json_data['url'].split('/')[4]\n",
    "print(f'{id = }')\n",
    "\n",
    "description = json_data['description']\n",
    "print(f'{description = }')\n",
    "\n",
    "aggregateRating = json_data['aggregateRating']\n",
    "avg_rating = aggregateRating['ratingValue']\n",
    "print(f'{avg_rating = }')\n",
    "\n",
    "rating_count = aggregateRating['ratingCount']\n",
    "print(f'{rating_count = }')\n",
    "\n",
    "content_rating = json_data['contentRating']\n",
    "print(f'{content_rating = }')\n",
    "\n",
    "genre = \"/\".join(json_data['genre'])\n",
    "print(f'{genre = }')\n",
    "\n",
    "release_date = json_data['datePublished']\n",
    "release_year = int(release_date.split('-')[0])\n",
    "print(f'{release_year = }')\n",
    "\n",
    "keywords = json_data['keywords']\n",
    "print(f'{keywords = }')\n",
    "\n",
    "actor = json_data['actor']\n",
    "cast = [a['name'] for a in actor]\n",
    "cast = \"/\".join(cast)\n",
    "print(f'{cast = }')\n",
    "\n",
    "creator = json_data['creator']\n",
    "writer = \"/\".join([c['name'] for c in creator if c['@type'] == 'Person'])\n",
    "print(f'{writer = }')\n",
    "\n",
    "director = json_data['director']\n",
    "director = \"/\".join([d['name'] for d in director])\n",
    "print(f'{director = }')\n",
    "\n",
    "duration = json_data['duration']\n",
    "print(f'{duration = }')\n",
    "\n",
    "json_data = json.loads(soup.find('script', id='__NEXT_DATA__').text)\n",
    "metascore = json_data['props']['pageProps']['aboveTheFoldData']['metacritic']['metascore']['score']\n",
    "print(f'{metascore = }')"
   ]
  }
 ],
 "metadata": {
  "kernelspec": {
   "display_name": "Python 3",
   "language": "python",
   "name": "python3"
  },
  "language_info": {
   "codemirror_mode": {
    "name": "ipython",
    "version": 3
   },
   "file_extension": ".py",
   "mimetype": "text/x-python",
   "name": "python",
   "nbconvert_exporter": "python",
   "pygments_lexer": "ipython3",
   "version": "3.12.7"
  }
 },
 "nbformat": 4,
 "nbformat_minor": 2
}
